{
 "cells": [
  {
   "cell_type": "markdown",
   "id": "9da7b44d-eca8-4c4f-b3a9-ef0ab0fc2a33",
   "metadata": {},
   "source": [
    "### Name and Roll Number"
   ]
  },
  {
   "cell_type": "markdown",
   "id": "3d94d223-5027-4d2a-86da-4e80f457e70e",
   "metadata": {},
   "source": [
    "Piyush Patil, 06"
   ]
  },
  {
   "cell_type": "code",
   "execution_count": 1,
   "id": "1b025873-1970-42c2-a22d-3b3d99100070",
   "metadata": {},
   "outputs": [
    {
     "name": "stdout",
     "output_type": "stream",
     "text": [
      "This is a string\n",
      "This is a string\n",
      "This is a string\n"
     ]
    }
   ],
   "source": [
    "a = 'This is a string'\n",
    "print (a)\n",
    "b = \"This is a string\"\n",
    "print (b)\n",
    "c= '''This is a string'''\n",
    "print (c)\n"
   ]
  },
  {
   "cell_type": "markdown",
   "id": "8486a925-c468-4e5e-b352-3e04237aafb6",
   "metadata": {},
   "source": [
    "Above cell is related to string"
   ]
  },
  {
   "cell_type": "markdown",
   "id": "3bfbfd99-130a-4125-9510-ee48eefcbf27",
   "metadata": {},
   "source": [
    "### Lists in Python\n"
   ]
  },
  {
   "cell_type": "code",
   "execution_count": 3,
   "id": "25ea7404-14cc-44aa-bd7a-c2850965b640",
   "metadata": {},
   "outputs": [
    {
     "name": "stdout",
     "output_type": "stream",
     "text": [
      "[1, 'a', 'string', 3]\n",
      "[1, 'a', 'string', 3, 6]\n",
      "[1, 'a', 'string', 3]\n",
      "a\n"
     ]
    }
   ],
   "source": [
    "L = [1, \"a\" , \"string\" , 1+2]\n",
    "print (L)\n",
    "#Adding an element in the list\n",
    "L.append(6) \n",
    "print (L)\n",
    "#Deleting last element from a list\n",
    "L.pop()\n",
    "print (L)\n",
    "#Displaying Second element of the list\n",
    "print (L[1])"
   ]
  },
  {
   "cell_type": "markdown",
   "id": "d97f793b-8cc2-4949-aaea-60f70bb82ec3",
   "metadata": {},
   "source": [
    "### Tuples in Python"
   ]
  },
  {
   "cell_type": "code",
   "execution_count": 4,
   "id": "770d9f0b-6d49-466f-bc0b-83bed35646bc",
   "metadata": {},
   "outputs": [
    {
     "name": "stdout",
     "output_type": "stream",
     "text": [
      "(1, 'a', 'string', 3)\n",
      "a\n"
     ]
    }
   ],
   "source": [
    "tup = (1, \"a\", \"string\", 1+2)\n",
    "print(tup)\n",
    "print(tup[1])"
   ]
  },
  {
   "cell_type": "markdown",
   "id": "1311ffe6-7b28-49fe-a952-66797a081def",
   "metadata": {},
   "source": [
    "### Dictionaries in Python"
   ]
  },
  {
   "cell_type": "code",
   "execution_count": 6,
   "id": "979b0d34-4e5a-405b-b631-205ee4290632",
   "metadata": {},
   "outputs": [
    {
     "name": "stdout",
     "output_type": "stream",
     "text": [
      "{1: 'Lorem', 2: 'Ipsum', 3: 'Dolerum'}\n"
     ]
    }
   ],
   "source": [
    "d = {1: 'Lorem', 2: 'Ipsum', 3: 'Dolerum'}\n",
    "print(d)"
   ]
  },
  {
   "cell_type": "markdown",
   "id": "3d958f6b-4a70-4e9d-98b6-c9319337eb30",
   "metadata": {},
   "source": [
    "### Create a Dictionary"
   ]
  },
  {
   "cell_type": "code",
   "execution_count": 7,
   "id": "d9af290c-bc4f-4e75-a753-c289b5bdeeed",
   "metadata": {},
   "outputs": [
    {
     "name": "stdout",
     "output_type": "stream",
     "text": [
      "{1: 'Game', 2: 'of', 3: 'Thrones'}\n",
      "{'a': 'House', 'b': 'of', 'c': 'Cards'}\n"
     ]
    }
   ],
   "source": [
    "# create dictionary using { }\n",
    "d1 = {1: 'Game', 2: 'of', 3: 'Thrones'}\n",
    "print(d1)\n",
    "\n",
    "# create dictionary using dict() constructor\n",
    "d2 = dict(a = \"House\", b = \"of\", c = \"Cards\")\n",
    "print(d2)"
   ]
  },
  {
   "cell_type": "markdown",
   "id": "5ac0cc68-965d-4855-ad4b-b6803d6d1d8b",
   "metadata": {},
   "source": [
    "### Accessing Dictionary Items"
   ]
  },
  {
   "cell_type": "code",
   "execution_count": 8,
   "id": "a0912618-b7ee-49c2-8f0c-d52c914b162e",
   "metadata": {},
   "outputs": [
    {
     "name": "stdout",
     "output_type": "stream",
     "text": [
      "Alice\n",
      "Alice\n"
     ]
    }
   ],
   "source": [
    "d = { \"name\": \"Alice\", 1: \"Python\", (1, 2): [1,2,4] }\n",
    "\n",
    "# Access using key\n",
    "print(d[\"name\"])\n",
    "\n",
    "# Access using get()\n",
    "print(d.get(\"name\"))"
   ]
  },
  {
   "cell_type": "markdown",
   "id": "fc1e3e16-5bb8-4c66-b597-5896e74a72d1",
   "metadata": {},
   "source": [
    "### Adding and Updating Dictionary Items"
   ]
  },
  {
   "cell_type": "code",
   "execution_count": 9,
   "id": "7c02704a-754a-43f8-8daa-d3830e53d076",
   "metadata": {},
   "outputs": [
    {
     "name": "stdout",
     "output_type": "stream",
     "text": [
      "{1: 'Python dict', 2: 'of', 3: 'Thrones', 'age': 22}\n"
     ]
    }
   ],
   "source": [
    "d = {1: 'Game', 2: 'of', 3: 'Thrones'}\n",
    "\n",
    "# Adding a new key-value pair\n",
    "d[\"age\"] = 22\n",
    "\n",
    "# Updating an existing value\n",
    "d[1] = \"Python dict\"\n",
    "\n",
    "print(d)"
   ]
  },
  {
   "cell_type": "markdown",
   "id": "fe079623-d6b3-4ad1-81fe-a1e526cd5da0",
   "metadata": {},
   "source": [
    "### Deleting a item in Dictionary"
   ]
  },
  {
   "cell_type": "markdown",
   "id": "2f03ba2e-19a6-4f1e-8380-cdd6ac64c6ce",
   "metadata": {},
   "source": [
    "We can delete a item from a dictionary by using the pop() metohd"
   ]
  },
  {
   "cell_type": "code",
   "execution_count": 12,
   "id": "ca265251-a9bc-4242-9afe-bbe8d0d435ee",
   "metadata": {},
   "outputs": [
    {
     "name": "stdout",
     "output_type": "stream",
     "text": [
      "Mathew\n",
      "{2: 'Joe', 3: 'Lizzy', 4: 'Amos'}\n"
     ]
    }
   ],
   "source": [
    "My_Dict = {1: \"Mathew\", 2: \"Joe\", 3: \"Lizzy\", 4: \"Amos\"}\n",
    "data = My_Dict.pop(1)\n",
    "print(data)\n",
    "print(My_Dict)"
   ]
  },
  {
   "cell_type": "code",
   "execution_count": null,
   "id": "27ef9266-e161-4b05-914b-a0b3623cfced",
   "metadata": {},
   "outputs": [],
   "source": []
  }
 ],
 "metadata": {
  "kernelspec": {
   "display_name": "Python 3 (ipykernel)",
   "language": "python",
   "name": "python3"
  },
  "language_info": {
   "codemirror_mode": {
    "name": "ipython",
    "version": 3
   },
   "file_extension": ".py",
   "mimetype": "text/x-python",
   "name": "python",
   "nbconvert_exporter": "python",
   "pygments_lexer": "ipython3",
   "version": "3.13.0"
  }
 },
 "nbformat": 4,
 "nbformat_minor": 5
}
